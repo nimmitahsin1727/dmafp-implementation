# This is one of the datasets that is used, read from a url.
# The data is used for the Bayesian model


https://raw.githubusercontent.com/susanli2016/Machine-Learning-with-Python/master/data/renfe_small.csv

# df = pd.read_csv(r"https://raw.githubusercontent.com/susanli2016/Machine-Learning-with-Python/master/data/renfe_small.csv")
# df.head(5)
